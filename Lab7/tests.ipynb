{
 "cells": [
  {
   "cell_type": "code",
   "execution_count": null,
   "id": "59940958",
   "metadata": {},
   "outputs": [
    {
     "name": "stdout",
     "output_type": "stream",
     "text": [
      "4\n"
     ]
    }
   ],
   "source": [
    "print(1+3)"
   ]
  },
  {
   "cell_type": "code",
   "execution_count": 2,
   "id": "bfd43f27",
   "metadata": {},
   "outputs": [
    {
     "name": "stdout",
     "output_type": "stream",
     "text": [
      "10\n"
     ]
    }
   ],
   "source": [
    "print(5+5)"
   ]
  },
  {
   "cell_type": "code",
   "execution_count": 51,
   "id": "43569791",
   "metadata": {},
   "outputs": [
    {
     "name": "stdout",
     "output_type": "stream",
     "text": [
      "[' banana']\n"
     ]
    }
   ],
   "source": [
    "fruits= ['apple', ' banana']\n",
    "\n",
    "fruits.append('carrot')\n",
    "print(fruits[1:2])"
   ]
  },
  {
   "cell_type": "code",
   "execution_count": 54,
   "id": "9044b14d",
   "metadata": {},
   "outputs": [
    {
     "name": "stdout",
     "output_type": "stream",
     "text": [
      "Original Matrix:\n",
      "[2, 2, 4]\n",
      "[4, 4, 1]\n",
      "[8, 10, 6]\n",
      "\n",
      "Transpose:\n",
      "[2, 4, 8]\n",
      "[2, 4, 10]\n",
      "[4, 1, 6]\n",
      "\n",
      "Sum of all elements: 41\n",
      "Largest number: 10\n"
     ]
    }
   ],
   "source": [
    "import random\n",
    "\n",
    "# Step 1: Create 3x3 matrix with random numbers 1–10\n",
    "matrix = [[random.randint(1, 10) for _ in range(3)] for _ in range(3)]\n",
    "\n",
    "print(\"Original Matrix:\")\n",
    "for row in matrix:\n",
    "    print(row)\n",
    "\n",
    "# Step 2: Transpose (flip rows into columns)\n",
    "transpose = [[matrix[j][i] for j in range(3)] for i in range(3)]\n",
    "\n",
    "print(\"\\nTranspose:\")\n",
    "for row in transpose:\n",
    "    print(row)\n",
    "\n",
    "# Step 3: Sum of all numbers\n",
    "total_sum = sum(sum(row) for row in matrix)\n",
    "print(\"\\nSum of all elements:\", total_sum)\n",
    "\n",
    "# Step 4: Largest number\n",
    "largest = max(max(row) for row in matrix)\n",
    "print(\"Largest number:\", largest)"
   ]
  },
  {
   "cell_type": "code",
   "execution_count": 5,
   "id": "eb23132c",
   "metadata": {},
   "outputs": [
    {
     "name": "stdout",
     "output_type": "stream",
     "text": [
      "Busses needed: 2\n"
     ]
    }
   ],
   "source": [
    "def busesNeeded(total_people):\n",
    "    #busses=0\n",
    "    if total_people <= 50:\n",
    "        busses=1\n",
    "    else:\n",
    "        busses= total_people// 50\n",
    "        if total_people % 50 !=0:\n",
    "            busses+= 1\n",
    "    return busses\n",
    "def main():\n",
    "    user_input= int(input(\"Enter the number of people:\"))\n",
    "    answer=busesNeeded(user_input)\n",
    "    print(\"Busses needed:\",answer)\n",
    "if __name__ == \"__main__\":\n",
    "    main()\n",
    "     "
   ]
  },
  {
   "cell_type": "code",
   "execution_count": 1,
   "id": "f4ce537b",
   "metadata": {},
   "outputs": [
    {
     "name": "stdout",
     "output_type": "stream",
     "text": [
      "your password: hello####\n"
     ]
    }
   ],
   "source": [
    "def maskDigits(text):\n",
    "    result=''\n",
    "    for i in text:\n",
    "        if i in \"1,2,3,4,5,6,7,8,9\":\n",
    "            result+=\"#\"\n",
    "        else:\n",
    "            result+=i\n",
    "    return result\n",
    "def main():\n",
    "    user_input=input(\"enter your password:\")\n",
    "    answer= maskDigits(user_input)\n",
    "    print(\"your password:\", answer)\n",
    "if __name__==\"__main__\":\n",
    "    main()\n",
    "    "
   ]
  },
  {
   "cell_type": "code",
   "execution_count": 36,
   "id": "f6393b09",
   "metadata": {},
   "outputs": [
    {
     "name": "stdout",
     "output_type": "stream",
     "text": [
      "your numbers 173\n"
     ]
    }
   ],
   "source": [
    "def sumSquareCube(n):\n",
    "    result=0\n",
    "    for i in range(1, n+1):\n",
    "        if i%2==0:\n",
    "            result+=i**2\n",
    "        else:\n",
    "            result+=i**3\n",
    "    return result\n",
    "def main():\n",
    "    user= int(input(\"Enter your input:\"))\n",
    "    answer=sumSquareCube(user)\n",
    "    print(\"your numbers\",answer)\n",
    "if __name__==\"__main__\":\n",
    "    main()"
   ]
  },
  {
   "cell_type": "code",
   "execution_count": 46,
   "id": "cfce58cc",
   "metadata": {},
   "outputs": [
    {
     "name": "stdout",
     "output_type": "stream",
     "text": [
      "your score is: poor\n"
     ]
    }
   ],
   "source": [
    "def creditCategory(score):\n",
    "    if score < 580:\n",
    "        return \"poor\"\n",
    "    elif 580<= score <=669:\n",
    "         return \"fair\"\n",
    "    elif 670 <= score <= 739:\n",
    "        return \"good\"\n",
    "    elif 740 <= score <=799:\n",
    "        return \"very good\"\n",
    "    else:\n",
    "        return \"Excellent\"\n",
    "def main():\n",
    "    user= int(input(\"Enter your credit score:\"))\n",
    "    answer= creditCategory(user)\n",
    "    print(\"your score is:\", answer)\n",
    "if __name__ ==\"__main__\":\n",
    "    main()\n"
   ]
  },
  {
   "cell_type": "code",
   "execution_count": null,
   "id": "9fcbff16",
   "metadata": {},
   "outputs": [],
   "source": []
  }
 ],
 "metadata": {
  "kernelspec": {
   "display_name": "ai_project",
   "language": "python",
   "name": "python3"
  },
  "language_info": {
   "codemirror_mode": {
    "name": "ipython",
    "version": 3
   },
   "file_extension": ".py",
   "mimetype": "text/x-python",
   "name": "python",
   "nbconvert_exporter": "python",
   "pygments_lexer": "ipython3",
   "version": "3.12.12"
  }
 },
 "nbformat": 4,
 "nbformat_minor": 5
}
